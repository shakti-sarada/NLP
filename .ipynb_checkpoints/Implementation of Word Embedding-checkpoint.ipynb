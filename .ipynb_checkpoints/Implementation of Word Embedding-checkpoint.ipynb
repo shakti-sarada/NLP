{
 "cells": [
  {
   "cell_type": "markdown",
   "id": "6054a6fa",
   "metadata": {},
   "source": [
    "# Word Embedding Techniques using Embedding Layer in Keras"
   ]
  },
  {
   "cell_type": "code",
   "execution_count": 5,
   "id": "2245aeca",
   "metadata": {
    "collapsed": true
   },
   "outputs": [
    {
     "name": "stdout",
     "output_type": "stream",
     "text": [
      "Requirement already satisfied: tensorflow in c:\\users\\dell\\anaconda3\\lib\\site-packages (2.12.0)\n",
      "Requirement already satisfied: tensorflow-intel==2.12.0 in c:\\users\\dell\\anaconda3\\lib\\site-packages (from tensorflow) (2.12.0)\n",
      "Requirement already satisfied: absl-py>=1.0.0 in c:\\users\\dell\\anaconda3\\lib\\site-packages (from tensorflow-intel==2.12.0->tensorflow) (1.4.0)\n",
      "Requirement already satisfied: astunparse>=1.6.0 in c:\\users\\dell\\anaconda3\\lib\\site-packages (from tensorflow-intel==2.12.0->tensorflow) (1.6.3)\n",
      "Requirement already satisfied: flatbuffers>=2.0 in c:\\users\\dell\\anaconda3\\lib\\site-packages (from tensorflow-intel==2.12.0->tensorflow) (23.5.26)\n",
      "Requirement already satisfied: gast<=0.4.0,>=0.2.1 in c:\\users\\dell\\anaconda3\\lib\\site-packages (from tensorflow-intel==2.12.0->tensorflow) (0.4.0)\n",
      "Requirement already satisfied: google-pasta>=0.1.1 in c:\\users\\dell\\anaconda3\\lib\\site-packages (from tensorflow-intel==2.12.0->tensorflow) (0.2.0)\n",
      "Requirement already satisfied: h5py>=2.9.0 in c:\\users\\dell\\anaconda3\\lib\\site-packages (from tensorflow-intel==2.12.0->tensorflow) (3.7.0)\n",
      "Requirement already satisfied: jax>=0.3.15 in c:\\users\\dell\\anaconda3\\lib\\site-packages (from tensorflow-intel==2.12.0->tensorflow) (0.4.30)\n",
      "Requirement already satisfied: libclang>=13.0.0 in c:\\users\\dell\\anaconda3\\lib\\site-packages (from tensorflow-intel==2.12.0->tensorflow) (16.0.6)\n",
      "Requirement already satisfied: numpy<1.24,>=1.22 in c:\\users\\dell\\anaconda3\\lib\\site-packages (from tensorflow-intel==2.12.0->tensorflow) (1.23.5)\n",
      "Requirement already satisfied: opt-einsum>=2.3.2 in c:\\users\\dell\\anaconda3\\lib\\site-packages (from tensorflow-intel==2.12.0->tensorflow) (3.3.0)\n",
      "Requirement already satisfied: packaging in c:\\users\\dell\\anaconda3\\lib\\site-packages (from tensorflow-intel==2.12.0->tensorflow) (23.0)\n",
      "Requirement already satisfied: protobuf!=4.21.0,!=4.21.1,!=4.21.2,!=4.21.3,!=4.21.4,!=4.21.5,<5.0.0dev,>=3.20.3 in c:\\users\\dell\\anaconda3\\lib\\site-packages (from tensorflow-intel==2.12.0->tensorflow) (4.24.0)\n",
      "Requirement already satisfied: setuptools in c:\\users\\dell\\anaconda3\\lib\\site-packages (from tensorflow-intel==2.12.0->tensorflow) (71.1.0)\n",
      "Requirement already satisfied: six>=1.12.0 in c:\\users\\dell\\anaconda3\\lib\\site-packages (from tensorflow-intel==2.12.0->tensorflow) (1.16.0)\n",
      "Requirement already satisfied: termcolor>=1.1.0 in c:\\users\\dell\\anaconda3\\lib\\site-packages (from tensorflow-intel==2.12.0->tensorflow) (2.3.0)\n",
      "Requirement already satisfied: typing-extensions>=3.6.6 in c:\\users\\dell\\anaconda3\\lib\\site-packages (from tensorflow-intel==2.12.0->tensorflow) (4.5.0)\n",
      "Requirement already satisfied: wrapt<1.15,>=1.11.0 in c:\\users\\dell\\anaconda3\\lib\\site-packages (from tensorflow-intel==2.12.0->tensorflow) (1.14.1)\n",
      "Requirement already satisfied: grpcio<2.0,>=1.24.3 in c:\\users\\dell\\anaconda3\\lib\\site-packages (from tensorflow-intel==2.12.0->tensorflow) (1.56.2)\n",
      "Requirement already satisfied: tensorboard<2.13,>=2.12 in c:\\users\\dell\\anaconda3\\lib\\site-packages (from tensorflow-intel==2.12.0->tensorflow) (2.12.3)\n",
      "Requirement already satisfied: tensorflow-estimator<2.13,>=2.12.0 in c:\\users\\dell\\anaconda3\\lib\\site-packages (from tensorflow-intel==2.12.0->tensorflow) (2.12.0)\n",
      "Requirement already satisfied: keras<2.13,>=2.12.0 in c:\\users\\dell\\anaconda3\\lib\\site-packages (from tensorflow-intel==2.12.0->tensorflow) (2.12.0)\n",
      "Requirement already satisfied: tensorflow-io-gcs-filesystem>=0.23.1 in c:\\users\\dell\\anaconda3\\lib\\site-packages (from tensorflow-intel==2.12.0->tensorflow) (0.31.0)\n",
      "Requirement already satisfied: wheel<1.0,>=0.23.0 in c:\\users\\dell\\anaconda3\\lib\\site-packages (from astunparse>=1.6.0->tensorflow-intel==2.12.0->tensorflow) (0.43.0)\n",
      "Requirement already satisfied: jaxlib<=0.4.30,>=0.4.27 in c:\\users\\dell\\anaconda3\\lib\\site-packages (from jax>=0.3.15->tensorflow-intel==2.12.0->tensorflow) (0.4.30)\n",
      "Requirement already satisfied: ml-dtypes>=0.2.0 in c:\\users\\dell\\anaconda3\\lib\\site-packages (from jax>=0.3.15->tensorflow-intel==2.12.0->tensorflow) (0.4.0)\n",
      "Requirement already satisfied: scipy>=1.9 in c:\\users\\dell\\anaconda3\\lib\\site-packages (from jax>=0.3.15->tensorflow-intel==2.12.0->tensorflow) (1.10.1)\n",
      "Requirement already satisfied: google-auth<3,>=1.6.3 in c:\\users\\dell\\anaconda3\\lib\\site-packages (from tensorboard<2.13,>=2.12->tensorflow-intel==2.12.0->tensorflow) (2.22.0)\n",
      "Requirement already satisfied: google-auth-oauthlib<1.1,>=0.5 in c:\\users\\dell\\anaconda3\\lib\\site-packages (from tensorboard<2.13,>=2.12->tensorflow-intel==2.12.0->tensorflow) (1.0.0)\n",
      "Requirement already satisfied: markdown>=2.6.8 in c:\\users\\dell\\anaconda3\\lib\\site-packages (from tensorboard<2.13,>=2.12->tensorflow-intel==2.12.0->tensorflow) (3.4.1)\n",
      "Requirement already satisfied: requests<3,>=2.21.0 in c:\\users\\dell\\anaconda3\\lib\\site-packages (from tensorboard<2.13,>=2.12->tensorflow-intel==2.12.0->tensorflow) (2.28.1)\n",
      "Requirement already satisfied: tensorboard-data-server<0.8.0,>=0.7.0 in c:\\users\\dell\\anaconda3\\lib\\site-packages (from tensorboard<2.13,>=2.12->tensorflow-intel==2.12.0->tensorflow) (0.7.1)\n",
      "Requirement already satisfied: werkzeug>=1.0.1 in c:\\users\\dell\\anaconda3\\lib\\site-packages (from tensorboard<2.13,>=2.12->tensorflow-intel==2.12.0->tensorflow) (2.2.3)\n",
      "Requirement already satisfied: cachetools<6.0,>=2.0.0 in c:\\users\\dell\\anaconda3\\lib\\site-packages (from google-auth<3,>=1.6.3->tensorboard<2.13,>=2.12->tensorflow-intel==2.12.0->tensorflow) (5.3.1)\n",
      "Requirement already satisfied: pyasn1-modules>=0.2.1 in c:\\users\\dell\\anaconda3\\lib\\site-packages (from google-auth<3,>=1.6.3->tensorboard<2.13,>=2.12->tensorflow-intel==2.12.0->tensorflow) (0.2.8)\n",
      "Requirement already satisfied: rsa<5,>=3.1.4 in c:\\users\\dell\\anaconda3\\lib\\site-packages (from google-auth<3,>=1.6.3->tensorboard<2.13,>=2.12->tensorflow-intel==2.12.0->tensorflow) (4.9)\n",
      "Requirement already satisfied: urllib3<2.0 in c:\\users\\dell\\anaconda3\\lib\\site-packages (from google-auth<3,>=1.6.3->tensorboard<2.13,>=2.12->tensorflow-intel==2.12.0->tensorflow) (1.26.16)\n",
      "Requirement already satisfied: requests-oauthlib>=0.7.0 in c:\\users\\dell\\anaconda3\\lib\\site-packages (from google-auth-oauthlib<1.1,>=0.5->tensorboard<2.13,>=2.12->tensorflow-intel==2.12.0->tensorflow) (1.3.1)\n",
      "Requirement already satisfied: charset-normalizer<3,>=2 in c:\\users\\dell\\anaconda3\\lib\\site-packages (from requests<3,>=2.21.0->tensorboard<2.13,>=2.12->tensorflow-intel==2.12.0->tensorflow) (2.0.4)\n",
      "Requirement already satisfied: idna<4,>=2.5 in c:\\users\\dell\\anaconda3\\lib\\site-packages (from requests<3,>=2.21.0->tensorboard<2.13,>=2.12->tensorflow-intel==2.12.0->tensorflow) (3.4)\n",
      "Requirement already satisfied: certifi>=2017.4.17 in c:\\users\\dell\\anaconda3\\lib\\site-packages (from requests<3,>=2.21.0->tensorboard<2.13,>=2.12->tensorflow-intel==2.12.0->tensorflow) (2023.5.7)\n",
      "Requirement already satisfied: MarkupSafe>=2.1.1 in c:\\users\\dell\\anaconda3\\lib\\site-packages (from werkzeug>=1.0.1->tensorboard<2.13,>=2.12->tensorflow-intel==2.12.0->tensorflow) (2.1.1)\n",
      "Requirement already satisfied: pyasn1<0.5.0,>=0.4.6 in c:\\users\\dell\\anaconda3\\lib\\site-packages (from pyasn1-modules>=0.2.1->google-auth<3,>=1.6.3->tensorboard<2.13,>=2.12->tensorflow-intel==2.12.0->tensorflow) (0.4.8)\n",
      "Requirement already satisfied: oauthlib>=3.0.0 in c:\\users\\dell\\anaconda3\\lib\\site-packages (from requests-oauthlib>=0.7.0->google-auth-oauthlib<1.1,>=0.5->tensorboard<2.13,>=2.12->tensorflow-intel==2.12.0->tensorflow) (3.2.2)\n",
      "Note: you may need to restart the kernel to use updated packages.\n"
     ]
    }
   ],
   "source": [
    "%pip install tensorflow"
   ]
  },
  {
   "cell_type": "code",
   "execution_count": 6,
   "id": "429ddf3e",
   "metadata": {},
   "outputs": [],
   "source": [
    "from tensorflow.keras.preprocessing.text import one_hot"
   ]
  },
  {
   "cell_type": "code",
   "execution_count": 7,
   "id": "8c9e5f18",
   "metadata": {},
   "outputs": [],
   "source": [
    "### sentences\n",
    "sent=[  'the glass of milk',\n",
    "     'the glass of juice',\n",
    "     'the cup of tea',\n",
    "    'I am a good boy',\n",
    "     'I am a good developer',\n",
    "     'understand the meaning of words',\n",
    "     'your videos are good']"
   ]
  },
  {
   "cell_type": "code",
   "execution_count": 8,
   "id": "d98e9aeb",
   "metadata": {},
   "outputs": [],
   "source": [
    "### Vocabulary size\n",
    "voc_size=500"
   ]
  },
  {
   "cell_type": "markdown",
   "id": "25fc5fac",
   "metadata": {},
   "source": [
    "# One Hot Representation"
   ]
  },
  {
   "cell_type": "code",
   "execution_count": 9,
   "id": "82be8456",
   "metadata": {},
   "outputs": [
    {
     "name": "stdout",
     "output_type": "stream",
     "text": [
      "[[443, 220, 70, 251], [443, 220, 70, 180], [443, 48, 70, 15], [324, 131, 176, 397, 149], [324, 131, 176, 397, 186], [144, 443, 90, 70, 80], [103, 343, 283, 397]]\n"
     ]
    }
   ],
   "source": [
    "onehot_repr=[one_hot(words,voc_size)for words in sent] \n",
    "print(onehot_repr)"
   ]
  },
  {
   "cell_type": "markdown",
   "id": "7d97173a",
   "metadata": {},
   "source": [
    "# Word Embedding Represntation"
   ]
  },
  {
   "cell_type": "code",
   "execution_count": 10,
   "id": "7449800e",
   "metadata": {},
   "outputs": [],
   "source": [
    "from tensorflow.keras.layers import Embedding\n",
    "from tensorflow.keras.preprocessing.sequence import pad_sequences # for post or pre padding \n",
    "from tensorflow.keras.models import Sequential # for sequential neural network"
   ]
  },
  {
   "cell_type": "code",
   "execution_count": 11,
   "id": "fe14fc2f",
   "metadata": {},
   "outputs": [],
   "source": [
    "import numpy as np"
   ]
  },
  {
   "cell_type": "code",
   "execution_count": 12,
   "id": "e32a4500",
   "metadata": {},
   "outputs": [
    {
     "name": "stdout",
     "output_type": "stream",
     "text": [
      "[[  0   0   0   0 443 220  70 251]\n",
      " [  0   0   0   0 443 220  70 180]\n",
      " [  0   0   0   0 443  48  70  15]\n",
      " [  0   0   0 324 131 176 397 149]\n",
      " [  0   0   0 324 131 176 397 186]\n",
      " [  0   0   0 144 443  90  70  80]\n",
      " [  0   0   0   0 103 343 283 397]]\n"
     ]
    }
   ],
   "source": [
    "## pre padding\n",
    "# we are doing padding to make all the sentences of same length\n",
    "sent_length=8\n",
    "embedded_docs=pad_sequences(onehot_repr,padding='pre',maxlen=sent_length)\n",
    "print(embedded_docs)"
   ]
  },
  {
   "cell_type": "code",
   "execution_count": 13,
   "id": "98c429da",
   "metadata": {},
   "outputs": [],
   "source": [
    "## 10 feature dimesnions representation\n",
    "dim=10"
   ]
  },
  {
   "cell_type": "code",
   "execution_count": 14,
   "id": "70fdacec",
   "metadata": {},
   "outputs": [],
   "source": [
    "model=Sequential()\n",
    "model.add(Embedding(voc_size,10,input_length=sent_length)) #adding embedding layer\n",
    "model.compile('adam','mse') # here adam is an optimizer and mse is a loss function"
   ]
  },
  {
   "cell_type": "code",
   "execution_count": 15,
   "id": "1b066e5d",
   "metadata": {},
   "outputs": [
    {
     "name": "stdout",
     "output_type": "stream",
     "text": [
      "Model: \"sequential\"\n",
      "_________________________________________________________________\n",
      " Layer (type)                Output Shape              Param #   \n",
      "=================================================================\n",
      " embedding (Embedding)       (None, 8, 10)             5000      \n",
      "                                                                 \n",
      "=================================================================\n",
      "Total params: 5,000\n",
      "Trainable params: 5,000\n",
      "Non-trainable params: 0\n",
      "_________________________________________________________________\n"
     ]
    }
   ],
   "source": [
    "model.summary()"
   ]
  },
  {
   "cell_type": "code",
   "execution_count": 16,
   "id": "03c1cfec",
   "metadata": {},
   "outputs": [
    {
     "data": {
      "text/plain": [
       "array([  0,   0,   0,   0, 443, 220,  70, 251])"
      ]
     },
     "execution_count": 16,
     "metadata": {},
     "output_type": "execute_result"
    }
   ],
   "source": [
    "##'the glass of milk',\n",
    "embedded_docs[0]"
   ]
  },
  {
   "cell_type": "code",
   "execution_count": 17,
   "id": "c7524272",
   "metadata": {},
   "outputs": [
    {
     "name": "stdout",
     "output_type": "stream",
     "text": [
      "1/1 [==============================] - 0s 272ms/step\n"
     ]
    },
    {
     "data": {
      "text/plain": [
       "array([[ 0.01443127, -0.01734231, -0.04515622, -0.03217013,  0.01302481,\n",
       "        -0.00855223, -0.01143442,  0.04685256,  0.023409  ,  0.02838391],\n",
       "       [ 0.01443127, -0.01734231, -0.04515622, -0.03217013,  0.01302481,\n",
       "        -0.00855223, -0.01143442,  0.04685256,  0.023409  ,  0.02838391],\n",
       "       [ 0.01443127, -0.01734231, -0.04515622, -0.03217013,  0.01302481,\n",
       "        -0.00855223, -0.01143442,  0.04685256,  0.023409  ,  0.02838391],\n",
       "       [ 0.01443127, -0.01734231, -0.04515622, -0.03217013,  0.01302481,\n",
       "        -0.00855223, -0.01143442,  0.04685256,  0.023409  ,  0.02838391],\n",
       "       [ 0.03783423,  0.00928871, -0.03506346, -0.02808001, -0.03684388,\n",
       "        -0.02635704,  0.01290685, -0.00135878,  0.04621149, -0.0039367 ],\n",
       "       [ 0.01885296,  0.04436511, -0.00283719,  0.03253331,  0.01013098,\n",
       "        -0.01780714, -0.02910249, -0.03756069,  0.03674093,  0.03980203],\n",
       "       [-0.02212195,  0.00402122,  0.00715335, -0.01900041, -0.02183359,\n",
       "        -0.04285866,  0.03372612,  0.04574862,  0.01064173,  0.02683348],\n",
       "       [-0.02467957, -0.02736647,  0.00146738,  0.00445465,  0.02796376,\n",
       "        -0.00014289, -0.03673381, -0.02878597, -0.02607561,  0.00818525]],\n",
       "      dtype=float32)"
      ]
     },
     "execution_count": 17,
     "metadata": {},
     "output_type": "execute_result"
    }
   ],
   "source": [
    "model.predict(embedded_docs[0])"
   ]
  },
  {
   "cell_type": "code",
   "execution_count": 19,
   "id": "4542374f",
   "metadata": {
    "collapsed": true
   },
   "outputs": [
    {
     "name": "stdout",
     "output_type": "stream",
     "text": [
      "1/1 [==============================] - 0s 24ms/step\n",
      "[[[ 0.01443127 -0.01734231 -0.04515622 -0.03217013  0.01302481\n",
      "   -0.00855223 -0.01143442  0.04685256  0.023409    0.02838391]\n",
      "  [ 0.01443127 -0.01734231 -0.04515622 -0.03217013  0.01302481\n",
      "   -0.00855223 -0.01143442  0.04685256  0.023409    0.02838391]\n",
      "  [ 0.01443127 -0.01734231 -0.04515622 -0.03217013  0.01302481\n",
      "   -0.00855223 -0.01143442  0.04685256  0.023409    0.02838391]\n",
      "  [ 0.01443127 -0.01734231 -0.04515622 -0.03217013  0.01302481\n",
      "   -0.00855223 -0.01143442  0.04685256  0.023409    0.02838391]\n",
      "  [ 0.03783423  0.00928871 -0.03506346 -0.02808001 -0.03684388\n",
      "   -0.02635704  0.01290685 -0.00135878  0.04621149 -0.0039367 ]\n",
      "  [ 0.01885296  0.04436511 -0.00283719  0.03253331  0.01013098\n",
      "   -0.01780714 -0.02910249 -0.03756069  0.03674093  0.03980203]\n",
      "  [-0.02212195  0.00402122  0.00715335 -0.01900041 -0.02183359\n",
      "   -0.04285866  0.03372612  0.04574862  0.01064173  0.02683348]\n",
      "  [-0.02467957 -0.02736647  0.00146738  0.00445465  0.02796376\n",
      "   -0.00014289 -0.03673381 -0.02878597 -0.02607561  0.00818525]]\n",
      "\n",
      " [[ 0.01443127 -0.01734231 -0.04515622 -0.03217013  0.01302481\n",
      "   -0.00855223 -0.01143442  0.04685256  0.023409    0.02838391]\n",
      "  [ 0.01443127 -0.01734231 -0.04515622 -0.03217013  0.01302481\n",
      "   -0.00855223 -0.01143442  0.04685256  0.023409    0.02838391]\n",
      "  [ 0.01443127 -0.01734231 -0.04515622 -0.03217013  0.01302481\n",
      "   -0.00855223 -0.01143442  0.04685256  0.023409    0.02838391]\n",
      "  [ 0.01443127 -0.01734231 -0.04515622 -0.03217013  0.01302481\n",
      "   -0.00855223 -0.01143442  0.04685256  0.023409    0.02838391]\n",
      "  [ 0.03783423  0.00928871 -0.03506346 -0.02808001 -0.03684388\n",
      "   -0.02635704  0.01290685 -0.00135878  0.04621149 -0.0039367 ]\n",
      "  [ 0.01885296  0.04436511 -0.00283719  0.03253331  0.01013098\n",
      "   -0.01780714 -0.02910249 -0.03756069  0.03674093  0.03980203]\n",
      "  [-0.02212195  0.00402122  0.00715335 -0.01900041 -0.02183359\n",
      "   -0.04285866  0.03372612  0.04574862  0.01064173  0.02683348]\n",
      "  [-0.04029088 -0.01365735  0.01757419 -0.01777153 -0.04016856\n",
      "   -0.03941566  0.01626951 -0.02416278  0.00806884  0.03234996]]\n",
      "\n",
      " [[ 0.01443127 -0.01734231 -0.04515622 -0.03217013  0.01302481\n",
      "   -0.00855223 -0.01143442  0.04685256  0.023409    0.02838391]\n",
      "  [ 0.01443127 -0.01734231 -0.04515622 -0.03217013  0.01302481\n",
      "   -0.00855223 -0.01143442  0.04685256  0.023409    0.02838391]\n",
      "  [ 0.01443127 -0.01734231 -0.04515622 -0.03217013  0.01302481\n",
      "   -0.00855223 -0.01143442  0.04685256  0.023409    0.02838391]\n",
      "  [ 0.01443127 -0.01734231 -0.04515622 -0.03217013  0.01302481\n",
      "   -0.00855223 -0.01143442  0.04685256  0.023409    0.02838391]\n",
      "  [ 0.03783423  0.00928871 -0.03506346 -0.02808001 -0.03684388\n",
      "   -0.02635704  0.01290685 -0.00135878  0.04621149 -0.0039367 ]\n",
      "  [-0.00918536 -0.02697246 -0.01144771  0.01107966 -0.03016187\n",
      "   -0.04420063 -0.020913    0.01316409  0.00560858 -0.00424087]\n",
      "  [-0.02212195  0.00402122  0.00715335 -0.01900041 -0.02183359\n",
      "   -0.04285866  0.03372612  0.04574862  0.01064173  0.02683348]\n",
      "  [-0.02124876  0.04641782  0.01335467 -0.03343781  0.02630916\n",
      "    0.002475   -0.02756488 -0.0470777  -0.02973946  0.0244798 ]]\n",
      "\n",
      " [[ 0.01443127 -0.01734231 -0.04515622 -0.03217013  0.01302481\n",
      "   -0.00855223 -0.01143442  0.04685256  0.023409    0.02838391]\n",
      "  [ 0.01443127 -0.01734231 -0.04515622 -0.03217013  0.01302481\n",
      "   -0.00855223 -0.01143442  0.04685256  0.023409    0.02838391]\n",
      "  [ 0.01443127 -0.01734231 -0.04515622 -0.03217013  0.01302481\n",
      "   -0.00855223 -0.01143442  0.04685256  0.023409    0.02838391]\n",
      "  [-0.0493969   0.01093134  0.01290539 -0.015282   -0.03080862\n",
      "    0.04068859  0.03257612 -0.02392164  0.0204525   0.03572914]\n",
      "  [-0.02506769  0.02953512  0.01768395 -0.0312093  -0.00627507\n",
      "   -0.00138633  0.03694603  0.02816231 -0.01643743  0.02273067]\n",
      "  [-0.0080938  -0.00124104 -0.01876333  0.03090197 -0.03862176\n",
      "   -0.02848485  0.04420877 -0.03767522  0.015871    0.00140711]\n",
      "  [-0.046637    0.03999351  0.04022399  0.00015951 -0.03022385\n",
      "    0.04861505 -0.01262456 -0.01671101  0.01622411  0.02169747]\n",
      "  [-0.04139032 -0.03031161  0.01705302 -0.00721183  0.03653323\n",
      "   -0.00810448 -0.03937068 -0.03390284 -0.04882872 -0.02886727]]\n",
      "\n",
      " [[ 0.01443127 -0.01734231 -0.04515622 -0.03217013  0.01302481\n",
      "   -0.00855223 -0.01143442  0.04685256  0.023409    0.02838391]\n",
      "  [ 0.01443127 -0.01734231 -0.04515622 -0.03217013  0.01302481\n",
      "   -0.00855223 -0.01143442  0.04685256  0.023409    0.02838391]\n",
      "  [ 0.01443127 -0.01734231 -0.04515622 -0.03217013  0.01302481\n",
      "   -0.00855223 -0.01143442  0.04685256  0.023409    0.02838391]\n",
      "  [-0.0493969   0.01093134  0.01290539 -0.015282   -0.03080862\n",
      "    0.04068859  0.03257612 -0.02392164  0.0204525   0.03572914]\n",
      "  [-0.02506769  0.02953512  0.01768395 -0.0312093  -0.00627507\n",
      "   -0.00138633  0.03694603  0.02816231 -0.01643743  0.02273067]\n",
      "  [-0.0080938  -0.00124104 -0.01876333  0.03090197 -0.03862176\n",
      "   -0.02848485  0.04420877 -0.03767522  0.015871    0.00140711]\n",
      "  [-0.046637    0.03999351  0.04022399  0.00015951 -0.03022385\n",
      "    0.04861505 -0.01262456 -0.01671101  0.01622411  0.02169747]\n",
      "  [ 0.02590158 -0.01726482  0.01671771 -0.02381418 -0.00062287\n",
      "    0.0212235   0.01893587 -0.02761045  0.04595654  0.04929979]]\n",
      "\n",
      " [[ 0.01443127 -0.01734231 -0.04515622 -0.03217013  0.01302481\n",
      "   -0.00855223 -0.01143442  0.04685256  0.023409    0.02838391]\n",
      "  [ 0.01443127 -0.01734231 -0.04515622 -0.03217013  0.01302481\n",
      "   -0.00855223 -0.01143442  0.04685256  0.023409    0.02838391]\n",
      "  [ 0.01443127 -0.01734231 -0.04515622 -0.03217013  0.01302481\n",
      "   -0.00855223 -0.01143442  0.04685256  0.023409    0.02838391]\n",
      "  [-0.04585553  0.00916864  0.00427861  0.04292018 -0.02793778\n",
      "    0.02422886 -0.00524233 -0.04422377 -0.02174895  0.04623232]\n",
      "  [ 0.03783423  0.00928871 -0.03506346 -0.02808001 -0.03684388\n",
      "   -0.02635704  0.01290685 -0.00135878  0.04621149 -0.0039367 ]\n",
      "  [ 0.04655022  0.00626351 -0.03083603 -0.00561716  0.0116055\n",
      "    0.0063029   0.01722274 -0.04269987  0.04479941  0.01298097]\n",
      "  [-0.02212195  0.00402122  0.00715335 -0.01900041 -0.02183359\n",
      "   -0.04285866  0.03372612  0.04574862  0.01064173  0.02683348]\n",
      "  [-0.00122346  0.01637722 -0.01706195 -0.00955559 -0.01660595\n",
      "    0.03797295  0.03799832  0.00349872  0.01740093  0.04686278]]\n",
      "\n",
      " [[ 0.01443127 -0.01734231 -0.04515622 -0.03217013  0.01302481\n",
      "   -0.00855223 -0.01143442  0.04685256  0.023409    0.02838391]\n",
      "  [ 0.01443127 -0.01734231 -0.04515622 -0.03217013  0.01302481\n",
      "   -0.00855223 -0.01143442  0.04685256  0.023409    0.02838391]\n",
      "  [ 0.01443127 -0.01734231 -0.04515622 -0.03217013  0.01302481\n",
      "   -0.00855223 -0.01143442  0.04685256  0.023409    0.02838391]\n",
      "  [ 0.01443127 -0.01734231 -0.04515622 -0.03217013  0.01302481\n",
      "   -0.00855223 -0.01143442  0.04685256  0.023409    0.02838391]\n",
      "  [ 0.01437585  0.00333935  0.0206832   0.04266227 -0.04819746\n",
      "   -0.01260086 -0.00062286  0.0333262  -0.04651653 -0.02487996]\n",
      "  [ 0.0082255  -0.00617627  0.00441705  0.01614345  0.01816876\n",
      "    0.01896677 -0.02138667 -0.00332355 -0.01772466  0.01689328]\n",
      "  [-0.01696674  0.04994228 -0.01686182 -0.04989692 -0.04177453\n",
      "    0.01955369  0.0010007   0.02795151  0.01588512  0.02934665]\n",
      "  [-0.046637    0.03999351  0.04022399  0.00015951 -0.03022385\n",
      "    0.04861505 -0.01262456 -0.01671101  0.01622411  0.02169747]]]\n"
     ]
    }
   ],
   "source": [
    "print(model.predict(embedded_docs))"
   ]
  },
  {
   "cell_type": "code",
   "execution_count": null,
   "id": "f57f8cbf",
   "metadata": {},
   "outputs": [],
   "source": []
  }
 ],
 "metadata": {
  "kernelspec": {
   "display_name": "Python 3 (ipykernel)",
   "language": "python",
   "name": "python3"
  },
  "language_info": {
   "codemirror_mode": {
    "name": "ipython",
    "version": 3
   },
   "file_extension": ".py",
   "mimetype": "text/x-python",
   "name": "python",
   "nbconvert_exporter": "python",
   "pygments_lexer": "ipython3",
   "version": "3.11.3"
  }
 },
 "nbformat": 4,
 "nbformat_minor": 5
}
